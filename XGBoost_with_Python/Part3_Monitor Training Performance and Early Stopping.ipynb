{
 "cells": [
  {
   "cell_type": "code",
   "execution_count": 1,
   "metadata": {},
   "outputs": [
    {
     "name": "stdout",
     "output_type": "stream",
     "text": [
      "[18:24:39] WARNING: ..\\src\\learner.cc:1061: Starting in XGBoost 1.3.0, the default evaluation metric used with the objective 'binary:logistic' was changed from 'error' to 'logloss'. Explicitly set eval_metric if you'd like to restore the old behavior.\n",
      "XGBClassifier(base_score=0.5, booster='gbtree', colsample_bylevel=1,\n",
      "              colsample_bynode=1, colsample_bytree=1, gamma=0, gpu_id=-1,\n",
      "              importance_type='gain', interaction_constraints='',\n",
      "              learning_rate=0.300000012, max_delta_step=0, max_depth=6,\n",
      "              min_child_weight=1, missing=nan, monotone_constraints='()',\n",
      "              n_estimators=100, n_jobs=8, num_parallel_tree=1,\n",
      "              objective='binary:logistic', random_state=0, reg_alpha=0,\n",
      "              reg_lambda=1, scale_pos_weight=1, subsample=1,\n",
      "              tree_method='exact', use_label_encoder=True,\n",
      "              validate_parameters=1, verbosity=None)\n",
      "0.7401574803149606\n"
     ]
    },
    {
     "name": "stderr",
     "output_type": "stream",
     "text": [
      "C:\\Users\\X168586\\AppData\\Local\\Continuum\\anaconda3\\lib\\site-packages\\xgboost\\sklearn.py:888: UserWarning: The use of label encoder in XGBClassifier is deprecated and will be removed in a future release. To remove this warning, do the following: 1) Pass option use_label_encoder=False when constructing XGBClassifier object; and 2) Encode your labels (y) as integers starting with 0, i.e. 0, 1, 2, ..., [num_class - 1].\n",
      "  warnings.warn(label_encoder_deprecation_msg, UserWarning)\n"
     ]
    }
   ],
   "source": [
    "%run \"myFirstModel.ipynb\""
   ]
  },
  {
   "cell_type": "code",
   "execution_count": 2,
   "metadata": {},
   "outputs": [
    {
     "name": "stdout",
     "output_type": "stream",
     "text": [
      "X\t XGBClassifier\t X_test\t X_train\t accuracy\t accuracy_score\t dataset\t loadtxt\t model\t \n",
      "preds\t train_test_split\t y\t y_test\t y_train\t \n"
     ]
    }
   ],
   "source": [
    "%who"
   ]
  },
  {
   "cell_type": "code",
   "execution_count": 3,
   "metadata": {},
   "outputs": [],
   "source": [
    "import matplotlib.pyplot as plt"
   ]
  },
  {
   "cell_type": "code",
   "execution_count": 4,
   "metadata": {},
   "outputs": [
    {
     "name": "stdout",
     "output_type": "stream",
     "text": [
      "[0]\tvalidation_0-error:0.28347\n",
      "[1]\tvalidation_0-error:0.25984\n",
      "[2]\tvalidation_0-error:0.25591\n",
      "[3]\tvalidation_0-error:0.24803\n",
      "[4]\tvalidation_0-error:0.24409\n",
      "[5]\tvalidation_0-error:0.24803\n",
      "[6]\tvalidation_0-error:0.25591\n",
      "[7]\tvalidation_0-error:0.24803\n",
      "[8]\tvalidation_0-error:0.25591\n",
      "[9]\tvalidation_0-error:0.24409\n",
      "[10]\tvalidation_0-error:0.24803\n",
      "[11]\tvalidation_0-error:0.24409\n",
      "[12]\tvalidation_0-error:0.23228\n",
      "[13]\tvalidation_0-error:0.24016\n",
      "[14]\tvalidation_0-error:0.23622\n",
      "[15]\tvalidation_0-error:0.24409\n",
      "[16]\tvalidation_0-error:0.25591\n",
      "[17]\tvalidation_0-error:0.23622\n",
      "[18]\tvalidation_0-error:0.24016\n",
      "[19]\tvalidation_0-error:0.23622\n",
      "[20]\tvalidation_0-error:0.23622\n",
      "[21]\tvalidation_0-error:0.23622\n",
      "[22]\tvalidation_0-error:0.23622\n",
      "[23]\tvalidation_0-error:0.24409\n",
      "[24]\tvalidation_0-error:0.24409\n",
      "[25]\tvalidation_0-error:0.24016\n",
      "[26]\tvalidation_0-error:0.24409\n",
      "[27]\tvalidation_0-error:0.24409\n",
      "[28]\tvalidation_0-error:0.25591\n",
      "[29]\tvalidation_0-error:0.25197\n",
      "[30]\tvalidation_0-error:0.24803\n",
      "[31]\tvalidation_0-error:0.25591\n",
      "[32]\tvalidation_0-error:0.25591\n",
      "[33]\tvalidation_0-error:0.25984\n",
      "[34]\tvalidation_0-error:0.26378\n",
      "[35]\tvalidation_0-error:0.26378\n",
      "[36]\tvalidation_0-error:0.26378\n",
      "[37]\tvalidation_0-error:0.26772\n",
      "[38]\tvalidation_0-error:0.26378\n",
      "[39]\tvalidation_0-error:0.25984\n",
      "[40]\tvalidation_0-error:0.25591\n",
      "[41]\tvalidation_0-error:0.24409\n",
      "[42]\tvalidation_0-error:0.24803\n",
      "[43]\tvalidation_0-error:0.24803\n",
      "[44]\tvalidation_0-error:0.25591\n",
      "[45]\tvalidation_0-error:0.25197\n",
      "[46]\tvalidation_0-error:0.26378\n",
      "[47]\tvalidation_0-error:0.26378\n",
      "[48]\tvalidation_0-error:0.26378\n",
      "[49]\tvalidation_0-error:0.25984\n",
      "[50]\tvalidation_0-error:0.27165\n",
      "[51]\tvalidation_0-error:0.26772\n",
      "[52]\tvalidation_0-error:0.27165\n",
      "[53]\tvalidation_0-error:0.26772\n",
      "[54]\tvalidation_0-error:0.26378\n",
      "[55]\tvalidation_0-error:0.26378\n",
      "[56]\tvalidation_0-error:0.26378\n",
      "[57]\tvalidation_0-error:0.26772\n",
      "[58]\tvalidation_0-error:0.27165\n",
      "[59]\tvalidation_0-error:0.26772\n",
      "[60]\tvalidation_0-error:0.27165\n",
      "[61]\tvalidation_0-error:0.27165\n",
      "[62]\tvalidation_0-error:0.26772\n",
      "[63]\tvalidation_0-error:0.26772\n",
      "[64]\tvalidation_0-error:0.26378\n",
      "[65]\tvalidation_0-error:0.25984\n",
      "[66]\tvalidation_0-error:0.27165\n",
      "[67]\tvalidation_0-error:0.27559\n",
      "[68]\tvalidation_0-error:0.26772\n",
      "[69]\tvalidation_0-error:0.26378\n",
      "[70]\tvalidation_0-error:0.26378\n",
      "[71]\tvalidation_0-error:0.26772\n",
      "[72]\tvalidation_0-error:0.26772\n",
      "[73]\tvalidation_0-error:0.26772\n",
      "[74]\tvalidation_0-error:0.26772\n",
      "[75]\tvalidation_0-error:0.26772\n",
      "[76]\tvalidation_0-error:0.26772\n",
      "[77]\tvalidation_0-error:0.27165\n",
      "[78]\tvalidation_0-error:0.26772\n",
      "[79]\tvalidation_0-error:0.27165\n",
      "[80]\tvalidation_0-error:0.27165\n",
      "[81]\tvalidation_0-error:0.28347\n",
      "[82]\tvalidation_0-error:0.27559\n",
      "[83]\tvalidation_0-error:0.27165\n",
      "[84]\tvalidation_0-error:0.27559\n",
      "[85]\tvalidation_0-error:0.26772\n",
      "[86]\tvalidation_0-error:0.26772\n",
      "[87]\tvalidation_0-error:0.26378\n",
      "[88]\tvalidation_0-error:0.26772\n",
      "[89]\tvalidation_0-error:0.26378\n",
      "[90]\tvalidation_0-error:0.27165\n"
     ]
    },
    {
     "name": "stderr",
     "output_type": "stream",
     "text": [
      "C:\\Users\\X168586\\AppData\\Local\\Continuum\\anaconda3\\lib\\site-packages\\xgboost\\sklearn.py:888: UserWarning: The use of label encoder in XGBClassifier is deprecated and will be removed in a future release. To remove this warning, do the following: 1) Pass option use_label_encoder=False when constructing XGBClassifier object; and 2) Encode your labels (y) as integers starting with 0, i.e. 0, 1, 2, ..., [num_class - 1].\n",
      "  warnings.warn(label_encoder_deprecation_msg, UserWarning)\n"
     ]
    },
    {
     "name": "stdout",
     "output_type": "stream",
     "text": [
      "[91]\tvalidation_0-error:0.26772\n",
      "[92]\tvalidation_0-error:0.27165\n",
      "[93]\tvalidation_0-error:0.26378\n",
      "[94]\tvalidation_0-error:0.27165\n",
      "[95]\tvalidation_0-error:0.26378\n",
      "[96]\tvalidation_0-error:0.25984\n",
      "[97]\tvalidation_0-error:0.26378\n",
      "[98]\tvalidation_0-error:0.25984\n",
      "[99]\tvalidation_0-error:0.25984\n"
     ]
    },
    {
     "data": {
      "text/plain": [
       "XGBClassifier(base_score=0.5, booster='gbtree', colsample_bylevel=1,\n",
       "              colsample_bynode=1, colsample_bytree=1, gamma=0, gpu_id=-1,\n",
       "              importance_type='gain', interaction_constraints='',\n",
       "              learning_rate=0.300000012, max_delta_step=0, max_depth=6,\n",
       "              min_child_weight=1, missing=nan, monotone_constraints='()',\n",
       "              n_estimators=100, n_jobs=8, num_parallel_tree=1,\n",
       "              objective='binary:logistic', random_state=0, reg_alpha=0,\n",
       "              reg_lambda=1, scale_pos_weight=1, subsample=1,\n",
       "              tree_method='exact', use_label_encoder=True,\n",
       "              validate_parameters=1, verbosity=None)"
      ]
     },
     "execution_count": 4,
     "metadata": {},
     "output_type": "execute_result"
    }
   ],
   "source": [
    "eval_set = [(X_test, y_test)]\n",
    "model.fit(X_train, y_train, eval_metric=\"error\", eval_set=eval_set, verbose=True)"
   ]
  },
  {
   "cell_type": "code",
   "execution_count": null,
   "metadata": {},
   "outputs": [],
   "source": [
    "epochs = len(model.evals_result()['validation_0']['error'])\n",
    "x_axis= range(0, epochs)\n",
    "plt.plot(x_axis, model.evals_result()['validation_0']['error'], label=\"Test\")\n",
    "plt.xlabel(\"Number of Test Data\")\n",
    "plt.ylabel(\"Classification Error\")\n",
    "plt.title(\"XGBoost Classification Error\")\n",
    "plt.show()"
   ]
  },
  {
   "cell_type": "code",
   "execution_count": 5,
   "metadata": {},
   "outputs": [
    {
     "name": "stdout",
     "output_type": "stream",
     "text": [
      "XGBClassifier(base_score=0.5, booster='gbtree', colsample_bylevel=1,\n",
      "              colsample_bynode=1, colsample_bytree=1, gamma=0, gpu_id=-1,\n",
      "              importance_type='gain', interaction_constraints='',\n",
      "              learning_rate=0.300000012, max_delta_step=0, max_depth=6,\n",
      "              min_child_weight=1, missing=nan, monotone_constraints='()',\n",
      "              n_estimators=100, n_jobs=8, num_parallel_tree=1,\n",
      "              objective='binary:logistic', random_state=0, reg_alpha=0,\n",
      "              reg_lambda=1, scale_pos_weight=1, subsample=1,\n",
      "              tree_method='exact', use_label_encoder=True,\n",
      "              validate_parameters=1, verbosity=None)\n"
     ]
    }
   ],
   "source": [
    "print(model)"
   ]
  },
  {
   "cell_type": "markdown",
   "metadata": {},
   "source": [
    "## Evaluate XGBoost Models With Learning Curves"
   ]
  },
  {
   "cell_type": "code",
   "execution_count": 7,
   "metadata": {},
   "outputs": [
    {
     "name": "stdout",
     "output_type": "stream",
     "text": [
      "[0]\tvalidation_0-error:0.13619\tvalidation_0-logloss:0.55257\tvalidation_1-error:0.28347\tvalidation_1-logloss:0.60491\n",
      "[1]\tvalidation_0-error:0.10895\tvalidation_0-logloss:0.46754\tvalidation_1-error:0.25984\tvalidation_1-logloss:0.55934\n",
      "[2]\tvalidation_0-error:0.10506\tvalidation_0-logloss:0.40734\tvalidation_1-error:0.25591\tvalidation_1-logloss:0.53068\n",
      "[3]\tvalidation_0-error:0.09144\tvalidation_0-logloss:0.36480\tvalidation_1-error:0.24803\tvalidation_1-logloss:0.51795\n",
      "[4]\tvalidation_0-error:0.08560\tvalidation_0-logloss:0.33012\tvalidation_1-error:0.24409\tvalidation_1-logloss:0.51153\n",
      "[5]\tvalidation_0-error:0.07782\tvalidation_0-logloss:0.29868\tvalidation_1-error:0.24803\tvalidation_1-logloss:0.50935\n",
      "[6]\tvalidation_0-error:0.06809\tvalidation_0-logloss:0.27852\tvalidation_1-error:0.25591\tvalidation_1-logloss:0.50818\n",
      "[7]\tvalidation_0-error:0.06615\tvalidation_0-logloss:0.26182\tvalidation_1-error:0.24803\tvalidation_1-logloss:0.51097\n",
      "[8]\tvalidation_0-error:0.06226\tvalidation_0-logloss:0.24578\tvalidation_1-error:0.25591\tvalidation_1-logloss:0.51760\n",
      "[9]\tvalidation_0-error:0.05642\tvalidation_0-logloss:0.23298\tvalidation_1-error:0.24409\tvalidation_1-logloss:0.51912\n",
      "[10]\tvalidation_0-error:0.04669\tvalidation_0-logloss:0.21955\tvalidation_1-error:0.24803\tvalidation_1-logloss:0.52503\n",
      "[11]\tvalidation_0-error:0.04280\tvalidation_0-logloss:0.21051\tvalidation_1-error:0.24409\tvalidation_1-logloss:0.52697\n",
      "[12]\tvalidation_0-error:0.03502\tvalidation_0-logloss:0.20083\tvalidation_1-error:0.23228\tvalidation_1-logloss:0.53335\n",
      "[13]\tvalidation_0-error:0.03696\tvalidation_0-logloss:0.19467\tvalidation_1-error:0.24016\tvalidation_1-logloss:0.53905\n",
      "[14]\tvalidation_0-error:0.03502\tvalidation_0-logloss:0.18725\tvalidation_1-error:0.23622\tvalidation_1-logloss:0.54546\n",
      "[15]\tvalidation_0-error:0.02918\tvalidation_0-logloss:0.17765\tvalidation_1-error:0.24409\tvalidation_1-logloss:0.54613\n",
      "[16]\tvalidation_0-error:0.02724\tvalidation_0-logloss:0.16747\tvalidation_1-error:0.25591\tvalidation_1-logloss:0.54982\n",
      "[17]\tvalidation_0-error:0.02140\tvalidation_0-logloss:0.15879\tvalidation_1-error:0.23622\tvalidation_1-logloss:0.55226\n",
      "[18]\tvalidation_0-error:0.01946\tvalidation_0-logloss:0.15115\tvalidation_1-error:0.24016\tvalidation_1-logloss:0.55355\n",
      "[19]\tvalidation_0-error:0.00973\tvalidation_0-logloss:0.14528\tvalidation_1-error:0.23622\tvalidation_1-logloss:0.55847\n",
      "[20]\tvalidation_0-error:0.00973\tvalidation_0-logloss:0.14282\tvalidation_1-error:0.23622\tvalidation_1-logloss:0.56063\n",
      "[21]\tvalidation_0-error:0.00778\tvalidation_0-logloss:0.13959\tvalidation_1-error:0.23622\tvalidation_1-logloss:0.56665\n",
      "[22]\tvalidation_0-error:0.00778\tvalidation_0-logloss:0.13253\tvalidation_1-error:0.23622\tvalidation_1-logloss:0.57418\n",
      "[23]\tvalidation_0-error:0.00778\tvalidation_0-logloss:0.12706\tvalidation_1-error:0.24409\tvalidation_1-logloss:0.57448\n",
      "[24]\tvalidation_0-error:0.00778\tvalidation_0-logloss:0.12430\tvalidation_1-error:0.24409\tvalidation_1-logloss:0.57511\n",
      "[25]\tvalidation_0-error:0.00584\tvalidation_0-logloss:0.12175\tvalidation_1-error:0.24016\tvalidation_1-logloss:0.58052\n",
      "[26]\tvalidation_0-error:0.00584\tvalidation_0-logloss:0.11715\tvalidation_1-error:0.24409\tvalidation_1-logloss:0.58830\n",
      "[27]\tvalidation_0-error:0.00584\tvalidation_0-logloss:0.11200\tvalidation_1-error:0.24409\tvalidation_1-logloss:0.59717\n",
      "[28]\tvalidation_0-error:0.00195\tvalidation_0-logloss:0.10682\tvalidation_1-error:0.25591\tvalidation_1-logloss:0.60530\n",
      "[29]\tvalidation_0-error:0.00389\tvalidation_0-logloss:0.10413\tvalidation_1-error:0.25197\tvalidation_1-logloss:0.60871\n",
      "[30]\tvalidation_0-error:0.00195\tvalidation_0-logloss:0.09942\tvalidation_1-error:0.24803\tvalidation_1-logloss:0.61161\n",
      "[31]\tvalidation_0-error:0.00195\tvalidation_0-logloss:0.09640\tvalidation_1-error:0.25591\tvalidation_1-logloss:0.61695\n",
      "[32]\tvalidation_0-error:0.00195\tvalidation_0-logloss:0.09168\tvalidation_1-error:0.25591\tvalidation_1-logloss:0.61717\n",
      "[33]\tvalidation_0-error:0.00000\tvalidation_0-logloss:0.08941\tvalidation_1-error:0.25984\tvalidation_1-logloss:0.62061\n",
      "[34]\tvalidation_0-error:0.00195\tvalidation_0-logloss:0.08648\tvalidation_1-error:0.26378\tvalidation_1-logloss:0.61886\n",
      "[35]\tvalidation_0-error:0.00000\tvalidation_0-logloss:0.08371\tvalidation_1-error:0.26378\tvalidation_1-logloss:0.61903\n",
      "[36]\tvalidation_0-error:0.00000\tvalidation_0-logloss:0.08277\tvalidation_1-error:0.26378\tvalidation_1-logloss:0.62187\n",
      "[37]\tvalidation_0-error:0.00000\tvalidation_0-logloss:0.08041\tvalidation_1-error:0.26772\tvalidation_1-logloss:0.62557\n",
      "[38]\tvalidation_0-error:0.00000\tvalidation_0-logloss:0.07842\tvalidation_1-error:0.26378\tvalidation_1-logloss:0.62663\n",
      "[39]\tvalidation_0-error:0.00000\tvalidation_0-logloss:0.07651\tvalidation_1-error:0.25984\tvalidation_1-logloss:0.62743\n",
      "[40]\tvalidation_0-error:0.00000\tvalidation_0-logloss:0.07424\tvalidation_1-error:0.25591\tvalidation_1-logloss:0.62667\n",
      "[41]\tvalidation_0-error:0.00000\tvalidation_0-logloss:0.07202\tvalidation_1-error:0.24409\tvalidation_1-logloss:0.63148\n",
      "[42]\tvalidation_0-error:0.00000\tvalidation_0-logloss:0.07012\tvalidation_1-error:0.24803\tvalidation_1-logloss:0.63695\n",
      "[43]\tvalidation_0-error:0.00000\tvalidation_0-logloss:0.06862\tvalidation_1-error:0.24803\tvalidation_1-logloss:0.64021\n",
      "[44]\tvalidation_0-error:0.00000\tvalidation_0-logloss:0.06629\tvalidation_1-error:0.25591\tvalidation_1-logloss:0.64323\n",
      "[45]\tvalidation_0-error:0.00000\tvalidation_0-logloss:0.06394\tvalidation_1-error:0.25197\tvalidation_1-logloss:0.64747\n",
      "[46]\tvalidation_0-error:0.00000\tvalidation_0-logloss:0.06230\tvalidation_1-error:0.26378\tvalidation_1-logloss:0.64921\n",
      "[47]\tvalidation_0-error:0.00000\tvalidation_0-logloss:0.06090\tvalidation_1-error:0.26378\tvalidation_1-logloss:0.65250\n",
      "[48]\tvalidation_0-error:0.00000\tvalidation_0-logloss:0.05953\tvalidation_1-error:0.26378\tvalidation_1-logloss:0.65838\n",
      "[49]\tvalidation_0-error:0.00000\tvalidation_0-logloss:0.05801\tvalidation_1-error:0.25984\tvalidation_1-logloss:0.66152\n",
      "[50]\tvalidation_0-error:0.00000\tvalidation_0-logloss:0.05643\tvalidation_1-error:0.27165\tvalidation_1-logloss:0.66584\n",
      "[51]\tvalidation_0-error:0.00000\tvalidation_0-logloss:0.05549\tvalidation_1-error:0.26772\tvalidation_1-logloss:0.66783\n",
      "[52]\tvalidation_0-error:0.00000\tvalidation_0-logloss:0.05462\tvalidation_1-error:0.27165\tvalidation_1-logloss:0.67103\n",
      "[53]\tvalidation_0-error:0.00000\tvalidation_0-logloss:0.05347\tvalidation_1-error:0.26772\tvalidation_1-logloss:0.67425\n",
      "[54]\tvalidation_0-error:0.00000\tvalidation_0-logloss:0.05253\tvalidation_1-error:0.26378\tvalidation_1-logloss:0.67873\n",
      "[55]\tvalidation_0-error:0.00000\tvalidation_0-logloss:0.05153\tvalidation_1-error:0.26378\tvalidation_1-logloss:0.67768\n",
      "[56]\tvalidation_0-error:0.00000\tvalidation_0-logloss:0.05051\tvalidation_1-error:0.26378\tvalidation_1-logloss:0.68270\n",
      "[57]\tvalidation_0-error:0.00000\tvalidation_0-logloss:0.04942\tvalidation_1-error:0.26772\tvalidation_1-logloss:0.68738\n",
      "[58]\tvalidation_0-error:0.00000\tvalidation_0-logloss:0.04892\tvalidation_1-error:0.27165\tvalidation_1-logloss:0.69011\n",
      "[59]\tvalidation_0-error:0.00000\tvalidation_0-logloss:0.04799\tvalidation_1-error:0.26772\tvalidation_1-logloss:0.69266\n",
      "[60]\tvalidation_0-error:0.00000\tvalidation_0-logloss:0.04720\tvalidation_1-error:0.27165\tvalidation_1-logloss:0.69469\n",
      "[61]\tvalidation_0-error:0.00000\tvalidation_0-logloss:0.04643\tvalidation_1-error:0.27165\tvalidation_1-logloss:0.70239\n",
      "[62]\tvalidation_0-error:0.00000\tvalidation_0-logloss:0.04535\tvalidation_1-error:0.26772\tvalidation_1-logloss:0.70504\n",
      "[63]\tvalidation_0-error:0.00000\tvalidation_0-logloss:0.04454\tvalidation_1-error:0.26772\tvalidation_1-logloss:0.70622\n",
      "[64]\tvalidation_0-error:0.00000\tvalidation_0-logloss:0.04379\tvalidation_1-error:0.26378\tvalidation_1-logloss:0.70810\n",
      "[65]\tvalidation_0-error:0.00000\tvalidation_0-logloss:0.04315\tvalidation_1-error:0.25984\tvalidation_1-logloss:0.71247\n",
      "[66]\tvalidation_0-error:0.00000\tvalidation_0-logloss:0.04242\tvalidation_1-error:0.27165\tvalidation_1-logloss:0.71706\n",
      "[67]\tvalidation_0-error:0.00000\tvalidation_0-logloss:0.04163\tvalidation_1-error:0.27559\tvalidation_1-logloss:0.71636\n",
      "[68]\tvalidation_0-error:0.00000\tvalidation_0-logloss:0.04084\tvalidation_1-error:0.26772\tvalidation_1-logloss:0.71625\n",
      "[69]\tvalidation_0-error:0.00000\tvalidation_0-logloss:0.04036\tvalidation_1-error:0.26378\tvalidation_1-logloss:0.71904\n",
      "[70]\tvalidation_0-error:0.00000\tvalidation_0-logloss:0.03993\tvalidation_1-error:0.26378\tvalidation_1-logloss:0.72348\n"
     ]
    },
    {
     "name": "stdout",
     "output_type": "stream",
     "text": [
      "[71]\tvalidation_0-error:0.00000\tvalidation_0-logloss:0.03907\tvalidation_1-error:0.26772\tvalidation_1-logloss:0.72573\n",
      "[72]\tvalidation_0-error:0.00000\tvalidation_0-logloss:0.03835\tvalidation_1-error:0.26772\tvalidation_1-logloss:0.72761\n",
      "[73]\tvalidation_0-error:0.00000\tvalidation_0-logloss:0.03762\tvalidation_1-error:0.26772\tvalidation_1-logloss:0.72992\n",
      "[74]\tvalidation_0-error:0.00000\tvalidation_0-logloss:0.03719\tvalidation_1-error:0.26772\tvalidation_1-logloss:0.73336\n",
      "[75]\tvalidation_0-error:0.00000\tvalidation_0-logloss:0.03669\tvalidation_1-error:0.26772\tvalidation_1-logloss:0.73445\n",
      "[76]\tvalidation_0-error:0.00000\tvalidation_0-logloss:0.03632\tvalidation_1-error:0.26772\tvalidation_1-logloss:0.73794\n",
      "[77]\tvalidation_0-error:0.00000\tvalidation_0-logloss:0.03588\tvalidation_1-error:0.27165\tvalidation_1-logloss:0.74054\n",
      "[78]\tvalidation_0-error:0.00000\tvalidation_0-logloss:0.03521\tvalidation_1-error:0.26772\tvalidation_1-logloss:0.74512\n",
      "[79]\tvalidation_0-error:0.00000\tvalidation_0-logloss:0.03464\tvalidation_1-error:0.27165\tvalidation_1-logloss:0.74767\n",
      "[80]\tvalidation_0-error:0.00000\tvalidation_0-logloss:0.03432\tvalidation_1-error:0.27165\tvalidation_1-logloss:0.74878\n",
      "[81]\tvalidation_0-error:0.00000\tvalidation_0-logloss:0.03380\tvalidation_1-error:0.28347\tvalidation_1-logloss:0.75047\n",
      "[82]\tvalidation_0-error:0.00000\tvalidation_0-logloss:0.03343\tvalidation_1-error:0.27559\tvalidation_1-logloss:0.75475\n",
      "[83]\tvalidation_0-error:0.00000\tvalidation_0-logloss:0.03297\tvalidation_1-error:0.27165\tvalidation_1-logloss:0.75587\n",
      "[84]\tvalidation_0-error:0.00000\tvalidation_0-logloss:0.03245\tvalidation_1-error:0.27559\tvalidation_1-logloss:0.75861\n",
      "[85]\tvalidation_0-error:0.00000\tvalidation_0-logloss:0.03208\tvalidation_1-error:0.26772\tvalidation_1-logloss:0.75890\n",
      "[86]\tvalidation_0-error:0.00000\tvalidation_0-logloss:0.03170\tvalidation_1-error:0.26772\tvalidation_1-logloss:0.76230\n",
      "[87]\tvalidation_0-error:0.00000\tvalidation_0-logloss:0.03139\tvalidation_1-error:0.26378\tvalidation_1-logloss:0.76483\n",
      "[88]\tvalidation_0-error:0.00000\tvalidation_0-logloss:0.03111\tvalidation_1-error:0.26772\tvalidation_1-logloss:0.76738\n",
      "[89]\tvalidation_0-error:0.00000\tvalidation_0-logloss:0.03077\tvalidation_1-error:0.26378\tvalidation_1-logloss:0.77021\n",
      "[90]\tvalidation_0-error:0.00000\tvalidation_0-logloss:0.03041\tvalidation_1-error:0.27165\tvalidation_1-logloss:0.77392\n",
      "[91]\tvalidation_0-error:0.00000\tvalidation_0-logloss:0.03003\tvalidation_1-error:0.26772\tvalidation_1-logloss:0.77259\n",
      "[92]\tvalidation_0-error:0.00000\tvalidation_0-logloss:0.02976\tvalidation_1-error:0.27165\tvalidation_1-logloss:0.77214\n",
      "[93]\tvalidation_0-error:0.00000\tvalidation_0-logloss:0.02947\tvalidation_1-error:0.26378\tvalidation_1-logloss:0.77362\n",
      "[94]\tvalidation_0-error:0.00000\tvalidation_0-logloss:0.02912\tvalidation_1-error:0.27165\tvalidation_1-logloss:0.77521\n",
      "[95]\tvalidation_0-error:0.00000\tvalidation_0-logloss:0.02877\tvalidation_1-error:0.26378\tvalidation_1-logloss:0.77405\n",
      "[96]\tvalidation_0-error:0.00000\tvalidation_0-logloss:0.02853\tvalidation_1-error:0.25984\tvalidation_1-logloss:0.77413\n",
      "[97]\tvalidation_0-error:0.00000\tvalidation_0-logloss:0.02833\tvalidation_1-error:0.26378\tvalidation_1-logloss:0.77805\n",
      "[98]\tvalidation_0-error:0.00000\tvalidation_0-logloss:0.02809\tvalidation_1-error:0.25984\tvalidation_1-logloss:0.77660\n",
      "[99]\tvalidation_0-error:0.00000\tvalidation_0-logloss:0.02787\tvalidation_1-error:0.25984\tvalidation_1-logloss:0.77681\n"
     ]
    },
    {
     "data": {
      "text/plain": [
       "XGBClassifier(base_score=0.5, booster='gbtree', colsample_bylevel=1,\n",
       "              colsample_bynode=1, colsample_bytree=1, gamma=0, gpu_id=-1,\n",
       "              importance_type='gain', interaction_constraints='',\n",
       "              learning_rate=0.300000012, max_delta_step=0, max_depth=6,\n",
       "              min_child_weight=1, missing=nan, monotone_constraints='()',\n",
       "              n_estimators=100, n_jobs=8, num_parallel_tree=1,\n",
       "              objective='binary:logistic', random_state=0, reg_alpha=0,\n",
       "              reg_lambda=1, scale_pos_weight=1, subsample=1,\n",
       "              tree_method='exact', use_label_encoder=True,\n",
       "              validate_parameters=1, verbosity=None)"
      ]
     },
     "execution_count": 7,
     "metadata": {},
     "output_type": "execute_result"
    }
   ],
   "source": [
    "eval_set=[(X_train, y_train),(X_test, y_test)]\n",
    "model.fit(X_train, y_train, eval_metric=['error','logloss'], eval_set=eval_set, verbose=True)"
   ]
  },
  {
   "cell_type": "code",
   "execution_count": 8,
   "metadata": {},
   "outputs": [],
   "source": [
    "predictions = model.predict(X_test)"
   ]
  },
  {
   "cell_type": "code",
   "execution_count": 10,
   "metadata": {},
   "outputs": [
    {
     "name": "stdout",
     "output_type": "stream",
     "text": [
      "Accuracy 0.7401574803149606\n"
     ]
    }
   ],
   "source": [
    "accuracy = accuracy_score(y_test, predictions)\n",
    "print(\"Accuracy\", accuracy)"
   ]
  },
  {
   "cell_type": "code",
   "execution_count": 11,
   "metadata": {},
   "outputs": [],
   "source": [
    "results = model.evals_result()\n",
    "epochs = len(results[\"validation_0\"][\"error\"])\n",
    "x_axis = range(0, epochs)\n"
   ]
  },
  {
   "cell_type": "code",
   "execution_count": 14,
   "metadata": {},
   "outputs": [
    {
     "data": {
      "image/png": "[encoded data removed]",
      "text/plain": [
       "<Figure size 432x288 with 1 Axes>"
      ]
     },
     "metadata": {
      "needs_background": "light"
     },
     "output_type": "display_data"
    }
   ],
   "source": [
    "# Log Loss\n",
    "fig, ax = plt.subplots()\n",
    "ax.plot(x_axis,results[\"validation_0\"][\"logloss\"], label=\"Train\")\n",
    "ax.plot(x_axis,results[\"validation_1\"][\"logloss\"], label=\"Test\")\n",
    "ax.legend()\n",
    "plt.ylabel(\"Log Loss\")\n",
    "plt.title(\"XGBoost Log Loss\")\n",
    "plt.show()"
   ]
  },
  {
   "cell_type": "code",
   "execution_count": 15,
   "metadata": {},
   "outputs": [
    {
     "data": {
      "image/png": "[encoded data removed]",
      "text/plain": [
       "<Figure size 432x288 with 1 Axes>"
      ]
     },
     "metadata": {
      "needs_background": "light"
     },
     "output_type": "display_data"
    }
   ],
   "source": [
    "# Classification error\n",
    "fig, ax = plt.subplots()\n",
    "ax.plot(x_axis,results[\"validation_0\"][\"error\"], label=\"Train\")\n",
    "ax.plot(x_axis,results[\"validation_1\"][\"error\"], label=\"Test\")\n",
    "ax.legend()\n",
    "plt.ylabel(\"Classification Error\")\n",
    "plt.title(\"XGBoost Classification Error\")\n",
    "plt.show()"
   ]
  },
  {
   "cell_type": "markdown",
   "metadata": {},
   "source": [
    "## Early Stopping With XGBoost"
   ]
  },
  {
   "cell_type": "code",
   "execution_count": 17,
   "metadata": {},
   "outputs": [
    {
     "name": "stdout",
     "output_type": "stream",
     "text": [
      "[0]\tvalidation_0-logloss:0.60491\n",
      "[1]\tvalidation_0-logloss:0.55934\n",
      "[2]\tvalidation_0-logloss:0.53068\n",
      "[3]\tvalidation_0-logloss:0.51795\n",
      "[4]\tvalidation_0-logloss:0.51153\n",
      "[5]\tvalidation_0-logloss:0.50935\n",
      "[6]\tvalidation_0-logloss:0.50818\n",
      "[7]\tvalidation_0-logloss:0.51097\n",
      "[8]\tvalidation_0-logloss:0.51760\n",
      "[9]\tvalidation_0-logloss:0.51912\n",
      "[10]\tvalidation_0-logloss:0.52503\n",
      "[11]\tvalidation_0-logloss:0.52697\n",
      "[12]\tvalidation_0-logloss:0.53335\n",
      "[13]\tvalidation_0-logloss:0.53905\n",
      "[14]\tvalidation_0-logloss:0.54546\n",
      "[15]\tvalidation_0-logloss:0.54613\n",
      "[16]\tvalidation_0-logloss:0.54982\n"
     ]
    },
    {
     "name": "stderr",
     "output_type": "stream",
     "text": [
      "C:\\Users\\X168586\\AppData\\Local\\Continuum\\anaconda3\\lib\\site-packages\\xgboost\\sklearn.py:888: UserWarning: The use of label encoder in XGBClassifier is deprecated and will be removed in a future release. To remove this warning, do the following: 1) Pass option use_label_encoder=False when constructing XGBClassifier object; and 2) Encode your labels (y) as integers starting with 0, i.e. 0, 1, 2, ..., [num_class - 1].\n",
      "  warnings.warn(label_encoder_deprecation_msg, UserWarning)\n"
     ]
    },
    {
     "data": {
      "text/plain": [
       "XGBClassifier(base_score=0.5, booster='gbtree', colsample_bylevel=1,\n",
       "              colsample_bynode=1, colsample_bytree=1, gamma=0, gpu_id=-1,\n",
       "              importance_type='gain', interaction_constraints='',\n",
       "              learning_rate=0.300000012, max_delta_step=0, max_depth=6,\n",
       "              min_child_weight=1, missing=nan, monotone_constraints='()',\n",
       "              n_estimators=100, n_jobs=8, num_parallel_tree=1,\n",
       "              objective='binary:logistic', random_state=0, reg_alpha=0,\n",
       "              reg_lambda=1, scale_pos_weight=1, subsample=1,\n",
       "              tree_method='exact', use_label_encoder=True,\n",
       "              validate_parameters=1, verbosity=None)"
      ]
     },
     "execution_count": 17,
     "metadata": {},
     "output_type": "execute_result"
    }
   ],
   "source": [
    "eval_set = [(X_test, y_test)]\n",
    "model.fit(X_train, y_train, early_stopping_rounds=10, eval_metric='logloss', eval_set=eval_set, verbose=True)"
   ]
  },
  {
   "cell_type": "code",
   "execution_count": 18,
   "metadata": {},
   "outputs": [
    {
     "data": {
      "text/plain": [
       "{'validation_0': OrderedDict([('logloss',\n",
       "               [0.60491,\n",
       "                0.559342,\n",
       "                0.530682,\n",
       "                0.517946,\n",
       "                0.511529,\n",
       "                0.509345,\n",
       "                0.508176,\n",
       "                0.510975,\n",
       "                0.5176,\n",
       "                0.519123,\n",
       "                0.52503,\n",
       "                0.526971,\n",
       "                0.533348,\n",
       "                0.539048,\n",
       "                0.545455,\n",
       "                0.546127,\n",
       "                0.549819])])}"
      ]
     },
     "execution_count": 18,
     "metadata": {},
     "output_type": "execute_result"
    }
   ],
   "source": [
    "model.evals_result()"
   ]
  },
  {
   "cell_type": "code",
   "execution_count": null,
   "metadata": {},
   "outputs": [],
   "source": []
  }
 ],
 "metadata": {
  "kernelspec": {
   "display_name": "Python 3",
   "language": "python",
   "name": "python3"
  },
  "language_info": {
   "codemirror_mode": {
    "name": "ipython",
    "version": 3
   },
   "file_extension": ".py",
   "mimetype": "text/x-python",
   "name": "python",
   "nbconvert_exporter": "python",
   "pygments_lexer": "ipython3",
   "version": "3.7.4"
  }
 },
 "nbformat": 4,
 "nbformat_minor": 2
}
