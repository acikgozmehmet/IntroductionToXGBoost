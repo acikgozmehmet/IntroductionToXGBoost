{
 "cells": [
  {
   "cell_type": "markdown",
   "metadata": {},
   "source": [
    "## Stochastic Gradient Boosting"
   ]
  },
  {
   "cell_type": "markdown",
   "metadata": {},
   "source": [
    "Gradient boosting is a greedy procedure. New decision trees are added to the model to correct\n",
    "the residual error of the existing model. Each decision tree is created using a greedy search\n",
    "procedure to select split points that best minimize an objective function. This can result in\n",
    "trees that use the same attributes and even the same split points again and again. Bagging\n",
    "is a technique where a collection of decision trees are created, each from a different random\n",
    "subset of rows from the training data. The effect is that better performance is achieved from\n",
    "the ensemble of trees because the randomness in the sample allows slightly different trees to be\n",
    "created, adding variance to the ensembled predictions.\n",
    "\n",
    "\n",
    "Random forest takes this one step further, by allowing the features (columns) to be subsam-\n",
    "pled when choosing split points, adding further variance to the ensemble of trees. These same\n",
    "techniques can be used in the construction of decision trees in gradient boosting in a variation\n",
    "called stochastic gradient boosting. It is common to use aggressive sub-samples of the training\n",
    "data such as 40% to 80%.\n",
    "\n",
    "In this tutorial we are going to look at the effect of different subsampling techniques in gradient\n",
    "boosting. We will tune three different flavors of stochastic gradient boosting supported by the\n",
    "XGBoost library in Python, specifically:\n",
    "\n",
    "1. Subsampling of rows in the dataset when creating each tree.\n",
    "\n",
    "2. Subsampling of columns in the dataset when creating each tree.\n",
    "\n",
    "3. Subsampling of columns for each split in the dataset when creating each tree.\n"
   ]
  },
  {
   "cell_type": "markdown",
   "metadata": {},
   "source": [
    "### Tuning Row Subsampling"
   ]
  },
  {
   "cell_type": "markdown",
   "metadata": {},
   "source": [
    "Row subsampling involves selecting a random sample of the training dataset without replacement.\n",
    "Row subsampling can be speci\f",
    "ed in the scikit-learn wrapper of the XGBoost class in the\n",
    "subsample parameter. The default is 1.0 which is no sub-sampling. We can use the grid search\n",
    "capability built into scikit-learn to evaluate the effect of different subsample values from 0.1 to\n",
    "1.0 on the Otto dataset"
   ]
  },
  {
   "cell_type": "code",
   "execution_count": 2,
   "metadata": {},
   "outputs": [],
   "source": [
    "import pandas as pd\n",
    "import numpy as np\n",
    "import matplotlib.pyplot as plt\n",
    "from xgboost import XGBClassifier\n",
    "from sklearn.model_selection import GridSearchCV\n",
    "from sklearn.model_selection import StratifiedKFold\n",
    "from sklearn.preprocessing import LabelEncoder"
   ]
  },
  {
   "cell_type": "code",
   "execution_count": 3,
   "metadata": {},
   "outputs": [
    {
     "data": {
      "text/html": [
       "<div>\n",
       "<style scoped>\n",
       "    .dataframe tbody tr th:only-of-type {\n",
       "        vertical-align: middle;\n",
       "    }\n",
       "\n",
       "    .dataframe tbody tr th {\n",
       "        vertical-align: top;\n",
       "    }\n",
       "\n",
       "    .dataframe thead th {\n",
       "        text-align: right;\n",
       "    }\n",
       "</style>\n",
       "<table border=\"1\" class=\"dataframe\">\n",
       "  <thead>\n",
       "    <tr style=\"text-align: right;\">\n",
       "      <th></th>\n",
       "      <th>0</th>\n",
       "      <th>1</th>\n",
       "      <th>2</th>\n",
       "      <th>3</th>\n",
       "      <th>4</th>\n",
       "      <th>5</th>\n",
       "      <th>6</th>\n",
       "      <th>7</th>\n",
       "      <th>8</th>\n",
       "      <th>9</th>\n",
       "    </tr>\n",
       "  </thead>\n",
       "  <tbody>\n",
       "    <tr>\n",
       "      <th>feat_1</th>\n",
       "      <td>1</td>\n",
       "      <td>0</td>\n",
       "      <td>0</td>\n",
       "      <td>1</td>\n",
       "      <td>0</td>\n",
       "      <td>2</td>\n",
       "      <td>2</td>\n",
       "      <td>0</td>\n",
       "      <td>0</td>\n",
       "      <td>0</td>\n",
       "    </tr>\n",
       "    <tr>\n",
       "      <th>feat_2</th>\n",
       "      <td>0</td>\n",
       "      <td>0</td>\n",
       "      <td>0</td>\n",
       "      <td>0</td>\n",
       "      <td>0</td>\n",
       "      <td>1</td>\n",
       "      <td>0</td>\n",
       "      <td>0</td>\n",
       "      <td>0</td>\n",
       "      <td>0</td>\n",
       "    </tr>\n",
       "    <tr>\n",
       "      <th>feat_3</th>\n",
       "      <td>0</td>\n",
       "      <td>0</td>\n",
       "      <td>0</td>\n",
       "      <td>0</td>\n",
       "      <td>0</td>\n",
       "      <td>0</td>\n",
       "      <td>0</td>\n",
       "      <td>0</td>\n",
       "      <td>0</td>\n",
       "      <td>0</td>\n",
       "    </tr>\n",
       "    <tr>\n",
       "      <th>feat_4</th>\n",
       "      <td>0</td>\n",
       "      <td>0</td>\n",
       "      <td>0</td>\n",
       "      <td>1</td>\n",
       "      <td>0</td>\n",
       "      <td>0</td>\n",
       "      <td>0</td>\n",
       "      <td>0</td>\n",
       "      <td>0</td>\n",
       "      <td>0</td>\n",
       "    </tr>\n",
       "    <tr>\n",
       "      <th>feat_5</th>\n",
       "      <td>0</td>\n",
       "      <td>0</td>\n",
       "      <td>0</td>\n",
       "      <td>6</td>\n",
       "      <td>0</td>\n",
       "      <td>7</td>\n",
       "      <td>0</td>\n",
       "      <td>0</td>\n",
       "      <td>0</td>\n",
       "      <td>0</td>\n",
       "    </tr>\n",
       "    <tr>\n",
       "      <th>...</th>\n",
       "      <td>...</td>\n",
       "      <td>...</td>\n",
       "      <td>...</td>\n",
       "      <td>...</td>\n",
       "      <td>...</td>\n",
       "      <td>...</td>\n",
       "      <td>...</td>\n",
       "      <td>...</td>\n",
       "      <td>...</td>\n",
       "      <td>...</td>\n",
       "    </tr>\n",
       "    <tr>\n",
       "      <th>feat_90</th>\n",
       "      <td>0</td>\n",
       "      <td>0</td>\n",
       "      <td>0</td>\n",
       "      <td>0</td>\n",
       "      <td>1</td>\n",
       "      <td>0</td>\n",
       "      <td>0</td>\n",
       "      <td>0</td>\n",
       "      <td>0</td>\n",
       "      <td>0</td>\n",
       "    </tr>\n",
       "    <tr>\n",
       "      <th>feat_91</th>\n",
       "      <td>0</td>\n",
       "      <td>0</td>\n",
       "      <td>0</td>\n",
       "      <td>0</td>\n",
       "      <td>0</td>\n",
       "      <td>2</td>\n",
       "      <td>0</td>\n",
       "      <td>0</td>\n",
       "      <td>0</td>\n",
       "      <td>1</td>\n",
       "    </tr>\n",
       "    <tr>\n",
       "      <th>feat_92</th>\n",
       "      <td>0</td>\n",
       "      <td>0</td>\n",
       "      <td>0</td>\n",
       "      <td>0</td>\n",
       "      <td>0</td>\n",
       "      <td>0</td>\n",
       "      <td>0</td>\n",
       "      <td>0</td>\n",
       "      <td>0</td>\n",
       "      <td>0</td>\n",
       "    </tr>\n",
       "    <tr>\n",
       "      <th>feat_93</th>\n",
       "      <td>0</td>\n",
       "      <td>0</td>\n",
       "      <td>0</td>\n",
       "      <td>0</td>\n",
       "      <td>0</td>\n",
       "      <td>0</td>\n",
       "      <td>1</td>\n",
       "      <td>0</td>\n",
       "      <td>1</td>\n",
       "      <td>0</td>\n",
       "    </tr>\n",
       "    <tr>\n",
       "      <th>target</th>\n",
       "      <td>Class_1</td>\n",
       "      <td>Class_1</td>\n",
       "      <td>Class_1</td>\n",
       "      <td>Class_1</td>\n",
       "      <td>Class_1</td>\n",
       "      <td>Class_1</td>\n",
       "      <td>Class_1</td>\n",
       "      <td>Class_1</td>\n",
       "      <td>Class_1</td>\n",
       "      <td>Class_1</td>\n",
       "    </tr>\n",
       "  </tbody>\n",
       "</table>\n",
       "<p>94 rows × 10 columns</p>\n",
       "</div>"
      ],
      "text/plain": [
       "               0        1        2        3        4        5        6  \\\n",
       "feat_1         1        0        0        1        0        2        2   \n",
       "feat_2         0        0        0        0        0        1        0   \n",
       "feat_3         0        0        0        0        0        0        0   \n",
       "feat_4         0        0        0        1        0        0        0   \n",
       "feat_5         0        0        0        6        0        7        0   \n",
       "...          ...      ...      ...      ...      ...      ...      ...   \n",
       "feat_90        0        0        0        0        1        0        0   \n",
       "feat_91        0        0        0        0        0        2        0   \n",
       "feat_92        0        0        0        0        0        0        0   \n",
       "feat_93        0        0        0        0        0        0        1   \n",
       "target   Class_1  Class_1  Class_1  Class_1  Class_1  Class_1  Class_1   \n",
       "\n",
       "               7        8        9  \n",
       "feat_1         0        0        0  \n",
       "feat_2         0        0        0  \n",
       "feat_3         0        0        0  \n",
       "feat_4         0        0        0  \n",
       "feat_5         0        0        0  \n",
       "...          ...      ...      ...  \n",
       "feat_90        0        0        0  \n",
       "feat_91        0        0        1  \n",
       "feat_92        0        0        0  \n",
       "feat_93        0        1        0  \n",
       "target   Class_1  Class_1  Class_1  \n",
       "\n",
       "[94 rows x 10 columns]"
      ]
     },
     "execution_count": 3,
     "metadata": {},
     "output_type": "execute_result"
    }
   ],
   "source": [
    "df = pd.read_csv('dataset/otto_train.csv')\n",
    "df.drop(['id'], axis =1, inplace=True)\n",
    "df.head(10).T"
   ]
  },
  {
   "cell_type": "code",
   "execution_count": 4,
   "metadata": {},
   "outputs": [
    {
     "name": "stdout",
     "output_type": "stream",
     "text": [
      "features : ['feat_1', 'feat_2', 'feat_3', 'feat_4', 'feat_5', 'feat_6', 'feat_7', 'feat_8', 'feat_9', 'feat_10', 'feat_11', 'feat_12', 'feat_13', 'feat_14', 'feat_15', 'feat_16', 'feat_17', 'feat_18', 'feat_19', 'feat_20', 'feat_21', 'feat_22', 'feat_23', 'feat_24', 'feat_25', 'feat_26', 'feat_27', 'feat_28', 'feat_29', 'feat_30', 'feat_31', 'feat_32', 'feat_33', 'feat_34', 'feat_35', 'feat_36', 'feat_37', 'feat_38', 'feat_39', 'feat_40', 'feat_41', 'feat_42', 'feat_43', 'feat_44', 'feat_45', 'feat_46', 'feat_47', 'feat_48', 'feat_49', 'feat_50', 'feat_51', 'feat_52', 'feat_53', 'feat_54', 'feat_55', 'feat_56', 'feat_57', 'feat_58', 'feat_59', 'feat_60', 'feat_61', 'feat_62', 'feat_63', 'feat_64', 'feat_65', 'feat_66', 'feat_67', 'feat_68', 'feat_69', 'feat_70', 'feat_71', 'feat_72', 'feat_73', 'feat_74', 'feat_75', 'feat_76', 'feat_77', 'feat_78', 'feat_79', 'feat_80', 'feat_81', 'feat_82', 'feat_83', 'feat_84', 'feat_85', 'feat_86', 'feat_87', 'feat_88', 'feat_89', 'feat_90', 'feat_91', 'feat_92', 'feat_93']\n",
      "target  : target\n"
     ]
    }
   ],
   "source": [
    "features = df.columns.to_list()[:-1]\n",
    "target = df.columns.to_list()[-1]\n",
    "print(\"features :\", features)\n",
    "print(\"target  :\", target)\n"
   ]
  },
  {
   "cell_type": "code",
   "execution_count": 5,
   "metadata": {},
   "outputs": [
    {
     "data": {
      "text/plain": [
       "Class_2    16122\n",
       "Class_6    14135\n",
       "Class_8     8464\n",
       "Class_3     8004\n",
       "Class_9     4955\n",
       "Class_7     2839\n",
       "Class_5     2739\n",
       "Class_4     2691\n",
       "Class_1     1929\n",
       "Name: target, dtype: int64"
      ]
     },
     "execution_count": 5,
     "metadata": {},
     "output_type": "execute_result"
    }
   ],
   "source": [
    "df[target].value_counts()"
   ]
  },
  {
   "cell_type": "code",
   "execution_count": 6,
   "metadata": {},
   "outputs": [],
   "source": [
    "X = df[features]\n",
    "y = df[target]"
   ]
  },
  {
   "cell_type": "code",
   "execution_count": 7,
   "metadata": {},
   "outputs": [],
   "source": [
    "labelEncoder = LabelEncoder()\n",
    "labelEncoder.fit(y)\n",
    "y_encoded = labelEncoder.transform(y)"
   ]
  },
  {
   "cell_type": "code",
   "execution_count": 8,
   "metadata": {},
   "outputs": [
    {
     "data": {
      "image/png": "[encoded data removed]",
      "text/plain": [
       "<Figure size 432x288 with 1 Axes>"
      ]
     },
     "metadata": {
      "needs_background": "light"
     },
     "output_type": "display_data"
    }
   ],
   "source": [
    "pd.Series(y_encoded).value_counts().plot(kind='bar')\n",
    "plt.show()"
   ]
  },
  {
   "cell_type": "code",
   "execution_count": 9,
   "metadata": {},
   "outputs": [
    {
     "data": {
      "text/plain": [
       "array([0.1, 0.5, 0.9])"
      ]
     },
     "execution_count": 9,
     "metadata": {},
     "output_type": "execute_result"
    }
   ],
   "source": [
    "np.arange(0.1,1.1,0.4)"
   ]
  },
  {
   "cell_type": "code",
   "execution_count": 10,
   "metadata": {},
   "outputs": [
    {
     "name": "stderr",
     "output_type": "stream",
     "text": [
      "/opt/anaconda3/lib/python3.8/site-packages/xgboost/sklearn.py:888: UserWarning: The use of label encoder in XGBClassifier is deprecated and will be removed in a future release. To remove this warning, do the following: 1) Pass option use_label_encoder=False when constructing XGBClassifier object; and 2) Encode your labels (y) as integers starting with 0, i.e. 0, 1, 2, ..., [num_class - 1].\n",
      "  warnings.warn(label_encoder_deprecation_msg, UserWarning)\n"
     ]
    },
    {
     "name": "stdout",
     "output_type": "stream",
     "text": [
      "[01:09:07] WARNING: /opt/concourse/worker/volumes/live/7a2b9f41-3287-451b-6691-43e9a6c0910f/volume/xgboost-split_1619728204606/work/src/learner.cc:1061: Starting in XGBoost 1.3.0, the default evaluation metric used with the objective 'multi:softprob' was changed from 'merror' to 'mlogloss'. Explicitly set eval_metric if you'd like to restore the old behavior.\n",
      "Best: -0.479610 using {'subsample': 0.8}\n"
     ]
    }
   ],
   "source": [
    "model = XGBClassifier()\n",
    "subsample = list(np.arange(0.1,1.1,0.1))\n",
    "param_grid = dict(subsample=subsample)\n",
    "kfold = StratifiedKFold(n_splits = 10, shuffle = True, random_state=7)\n",
    "grid_search = GridSearchCV(model, param_grid, scoring=\"neg_log_loss\", n_jobs =-1, cv =kfold)\n",
    "grid_result = grid_search.fit(X, y_encoded)\n",
    "print(\"Best: %f using %s\" %(grid_result.best_score_, grid_result.best_params_))"
   ]
  },
  {
   "cell_type": "code",
   "execution_count": 11,
   "metadata": {},
   "outputs": [
    {
     "name": "stdout",
     "output_type": "stream",
     "text": [
      "-0.558959 (0.008556) with: {'subsample': 0.1}\n",
      "-0.518041 (0.009098) with: {'subsample': 0.2}\n",
      "-0.501251 (0.007520) with: {'subsample': 0.30000000000000004}\n",
      "-0.489964 (0.008774) with: {'subsample': 0.4}\n",
      "-0.485317 (0.008698) with: {'subsample': 0.5}\n",
      "-0.481931 (0.006621) with: {'subsample': 0.6}\n",
      "-0.479696 (0.006838) with: {'subsample': 0.7000000000000001}\n",
      "-0.479610 (0.006049) with: {'subsample': 0.8}\n",
      "-0.480852 (0.007316) with: {'subsample': 0.9}\n",
      "-0.485025 (0.007157) with: {'subsample': 1.0}\n"
     ]
    },
    {
     "data": {
      "image/png": "[encoded data removed]",
      "text/plain": [
       "<Figure size 432x288 with 1 Axes>"
      ]
     },
     "metadata": {
      "needs_background": "light"
     },
     "output_type": "display_data"
    }
   ],
   "source": [
    "means = grid_result.cv_results_['mean_test_score']\n",
    "stds =  grid_result.cv_results_['std_test_score']\n",
    "params = grid_result.cv_results_['params']\n",
    "for mean, stdev, param in zip(means, stds, params):\n",
    "    print(\"%f (%f) with: %r\" %(mean,stdev, param))\n",
    "\n",
    "plt.errorbar(subsample, means, yerr=stds)\n",
    "plt.title(\"XGBoost subsample vs Log Loss\")\n",
    "plt.xlabel(\"subsample\")\n",
    "plt.ylabel(\"Log loss\")\n",
    "plt.savefig(\"subsample.png\")"
   ]
  },
  {
   "cell_type": "markdown",
   "metadata": {},
   "source": [
    "We can see that indeed 80% has the best mean performance."
   ]
  },
  {
   "cell_type": "markdown",
   "metadata": {},
   "source": [
    "## Tuning Columns Subsampling By Tree"
   ]
  },
  {
   "cell_type": "markdown",
   "metadata": {},
   "source": []
  },
  {
   "cell_type": "code",
   "execution_count": 13,
   "metadata": {},
   "outputs": [
    {
     "name": "stderr",
     "output_type": "stream",
     "text": [
      "/opt/anaconda3/lib/python3.8/site-packages/xgboost/sklearn.py:888: UserWarning: The use of label encoder in XGBClassifier is deprecated and will be removed in a future release. To remove this warning, do the following: 1) Pass option use_label_encoder=False when constructing XGBClassifier object; and 2) Encode your labels (y) as integers starting with 0, i.e. 0, 1, 2, ..., [num_class - 1].\n",
      "  warnings.warn(label_encoder_deprecation_msg, UserWarning)\n"
     ]
    },
    {
     "name": "stdout",
     "output_type": "stream",
     "text": [
      "[09:25:35] WARNING: /opt/concourse/worker/volumes/live/7a2b9f41-3287-451b-6691-43e9a6c0910f/volume/xgboost-split_1619728204606/work/src/learner.cc:1061: Starting in XGBoost 1.3.0, the default evaluation metric used with the objective 'multi:softprob' was changed from 'merror' to 'mlogloss'. Explicitly set eval_metric if you'd like to restore the old behavior.\n",
      "Best: -0.483931 using {'colsample_bytree': 0.8}\n",
      "-0.537761 (0.007112) with: {'colsample_bytree': 0.1}\n",
      "-0.501737 (0.006475) with: {'colsample_bytree': 0.2}\n",
      "-0.494415 (0.007745) with: {'colsample_bytree': 0.30000000000000004}\n",
      "-0.490147 (0.007097) with: {'colsample_bytree': 0.4}\n",
      "-0.487629 (0.007752) with: {'colsample_bytree': 0.5}\n",
      "-0.484037 (0.006388) with: {'colsample_bytree': 0.6}\n",
      "-0.484380 (0.007324) with: {'colsample_bytree': 0.7000000000000001}\n",
      "-0.483931 (0.007325) with: {'colsample_bytree': 0.8}\n",
      "-0.485141 (0.007410) with: {'colsample_bytree': 0.9}\n",
      "-0.485025 (0.007157) with: {'colsample_bytree': 1.0}\n"
     ]
    },
    {
     "data": {
      "image/png": "[encoded data removed]",
      "text/plain": [
       "<Figure size 432x288 with 1 Axes>"
      ]
     },
     "metadata": {
      "needs_background": "light"
     },
     "output_type": "display_data"
    }
   ],
   "source": [
    "model2 = XGBClassifier()\n",
    "colsample_bytree = list(np.arange(0.1,1.1,0.1))\n",
    "param_grid = dict(colsample_bytree=colsample_bytree)\n",
    "kfold = StratifiedKFold(n_splits = 10, shuffle = True, random_state=7)\n",
    "grid_search2 = GridSearchCV(model2, param_grid, scoring=\"neg_log_loss\", n_jobs =-1, cv =kfold)\n",
    "grid_result2 = grid_search2.fit(X, y_encoded)\n",
    "print(\"Best: %f using %s\" %(grid_result2.best_score_, grid_result2.best_params_))\n",
    "means = grid_result2.cv_results_['mean_test_score']\n",
    "stds =  grid_result2.cv_results_['std_test_score']\n",
    "params = grid_result2.cv_results_['params']\n",
    "for mean, stdev, param in zip(means, stds, params):\n",
    "    print(\"%f (%f) with: %r\" %(mean,stdev, param))\n",
    "\n",
    "plt.errorbar(colsample_bytree, means, yerr=stds)\n",
    "plt.title(\"XGBoost colsample_bytree vs Log Loss\")\n",
    "plt.xlabel(\"colsample_bytree\")\n",
    "plt.ylabel(\"Log loss\")\n",
    "plt.savefig(\"colsample_bytree.png\")"
   ]
  },
  {
   "cell_type": "markdown",
   "metadata": {},
   "source": [
    "Running this example prints the best configuration as well as the log loss for each tested configuration. We can see that the best performance for the model was colsample bytree=0.8, but the difference between 1.0 does not look significant. This suggests that subsampling columns on this problem does not add value.\n"
   ]
  },
  {
   "cell_type": "markdown",
   "metadata": {},
   "source": [
    "## Tuning Column Subsampling By Split"
   ]
  },
  {
   "cell_type": "code",
   "execution_count": 17,
   "metadata": {},
   "outputs": [
    {
     "name": "stderr",
     "output_type": "stream",
     "text": [
      "/opt/anaconda3/lib/python3.8/site-packages/xgboost/sklearn.py:888: UserWarning: The use of label encoder in XGBClassifier is deprecated and will be removed in a future release. To remove this warning, do the following: 1) Pass option use_label_encoder=False when constructing XGBClassifier object; and 2) Encode your labels (y) as integers starting with 0, i.e. 0, 1, 2, ..., [num_class - 1].\n",
      "  warnings.warn(label_encoder_deprecation_msg, UserWarning)\n"
     ]
    },
    {
     "name": "stdout",
     "output_type": "stream",
     "text": [
      "[00:21:24] WARNING: /opt/concourse/worker/volumes/live/7a2b9f41-3287-451b-6691-43e9a6c0910f/volume/xgboost-split_1619728204606/work/src/learner.cc:1061: Starting in XGBoost 1.3.0, the default evaluation metric used with the objective 'multi:softprob' was changed from 'merror' to 'mlogloss'. Explicitly set eval_metric if you'd like to restore the old behavior.\n",
      "Best: -0.484724 using {'colsample_bylevel': 0.8}\n",
      "-0.501161 (0.005401) with: {'colsample_bylevel': 0.1}\n",
      "-0.493827 (0.005474) with: {'colsample_bylevel': 0.2}\n",
      "-0.490790 (0.006154) with: {'colsample_bylevel': 0.30000000000000004}\n",
      "-0.487207 (0.006035) with: {'colsample_bylevel': 0.4}\n",
      "-0.486949 (0.006291) with: {'colsample_bylevel': 0.5}\n",
      "-0.485001 (0.006952) with: {'colsample_bylevel': 0.6}\n",
      "-0.485814 (0.007028) with: {'colsample_bylevel': 0.7000000000000001}\n",
      "-0.484724 (0.007034) with: {'colsample_bylevel': 0.8}\n",
      "-0.485759 (0.005975) with: {'colsample_bylevel': 0.9}\n",
      "-0.485025 (0.007157) with: {'colsample_bylevel': 1.0}\n"
     ]
    },
    {
     "data": {
      "image/png": "[encoded data removed]",
      "text/plain": [
       "<Figure size 432x288 with 1 Axes>"
      ]
     },
     "metadata": {
      "needs_background": "light"
     },
     "output_type": "display_data"
    }
   ],
   "source": [
    "model3 = XGBClassifier()\n",
    "colsample_bylevel = list(np.arange(0.1,1.1,0.1))\n",
    "param_grid = dict(colsample_bylevel=colsample_bylevel)\n",
    "kfold = StratifiedKFold(n_splits = 10, shuffle = True, random_state=7)\n",
    "grid_search3 = GridSearchCV(model3, param_grid, scoring=\"neg_log_loss\", n_jobs =-1, cv =kfold)\n",
    "grid_result3 = grid_search3.fit(X, y_encoded)\n",
    "print(\"Best: %f using %s\" %(grid_result3.best_score_, grid_result3.best_params_))\n",
    "means = grid_result3.cv_results_['mean_test_score']\n",
    "stds =  grid_result3.cv_results_['std_test_score']\n",
    "params = grid_result3.cv_results_['params']\n",
    "for mean, stdev, param in zip(means, stds, params):\n",
    "    print(\"%f (%f) with: %r\" %(mean,stdev, param))\n",
    "\n",
    "plt.errorbar(colsample_bylevel, means, yerr=stds)\n",
    "plt.title(\"XGBoost colsample_bylevel vs Log Loss\")\n",
    "plt.xlabel(\"colsample_bylevel\")\n",
    "plt.ylabel(\"Log loss\")\n",
    "plt.savefig(\"colsample_bylevel.png\")"
   ]
  },
  {
   "cell_type": "code",
   "execution_count": null,
   "metadata": {},
   "outputs": [],
   "source": []
  }
 ],
 "metadata": {
  "kernelspec": {
   "display_name": "Python 3",
   "language": "python",
   "name": "python3"
  },
  "language_info": {
   "codemirror_mode": {
    "name": "ipython",
    "version": 3
   },
   "file_extension": ".py",
   "mimetype": "text/x-python",
   "name": "python",
   "nbconvert_exporter": "python",
   "pygments_lexer": "ipython3",
   "version": "3.8.5"
  }
 },
 "nbformat": 4,
 "nbformat_minor": 2
}
